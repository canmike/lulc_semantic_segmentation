{
  "nbformat": 4,
  "nbformat_minor": 0,
  "metadata": {
    "colab": {
      "provenance": [],
      "toc_visible": true,
      "gpuType": "T4",
      "include_colab_link": true
    },
    "kernelspec": {
      "name": "python3",
      "display_name": "Python 3"
    },
    "language_info": {
      "name": "python"
    },
    "accelerator": "GPU"
  },
  "cells": [
    {
      "cell_type": "markdown",
      "metadata": {
        "id": "view-in-github",
        "colab_type": "text"
      },
      "source": [
        "<a href=\"https://colab.research.google.com/github/canmike/lulc_semantic_segmentation/blob/main/segmentation.ipynb\" target=\"_parent\"><img src=\"https://colab.research.google.com/assets/colab-badge.svg\" alt=\"Open In Colab\"/></a>"
      ]
    },
    {
      "cell_type": "markdown",
      "source": [
        "# 1. Downloading .py Files"
      ],
      "metadata": {
        "id": "VNrV_xkaEgXd"
      }
    },
    {
      "cell_type": "code",
      "execution_count": 1,
      "metadata": {
        "colab": {
          "base_uri": "https://localhost:8080/"
        },
        "id": "uP8MxEZuaxDu",
        "outputId": "6abc1938-aa77-4a09-a33e-97571bed5d02"
      },
      "outputs": [
        {
          "output_type": "stream",
          "name": "stdout",
          "text": [
            "Downloaded utils.py.\n"
          ]
        }
      ],
      "source": [
        "import requests\n",
        "from pathlib import Path\n",
        "\n",
        "# Download helper functions from Learn PyTorch repo (if not already downloaded)\n",
        "if Path(\"utils.py\").is_file():\n",
        "  print(\"utils.py already exists, skipping download\")\n",
        "else:\n",
        "  # Note: you need the \"raw\" GitHub URL for this to work\n",
        "  request = requests.get(\"https://raw.githubusercontent.com/canmike/lulc_semantic_segmentation/main/utils.py\")\n",
        "  with open(\"utils.py\", \"wb\") as f:\n",
        "    f.write(request.content)\n",
        "  print(\"Downloaded utils.py.\")"
      ]
    },
    {
      "cell_type": "markdown",
      "source": [
        "# 2. Downloading Data"
      ],
      "metadata": {
        "id": "8Feb3l0krX54"
      }
    },
    {
      "cell_type": "code",
      "source": [
        "import gdown\n",
        "\n",
        "id = \"1WkN9LN_j0lfslSX0qC0Jlgf9bnluGSEu\"\n",
        "gdown.download_folder(id=id, quiet=True, use_cookies=False)\n",
        "import zipfile\n",
        "from pathlib import Path\n",
        "import os\n",
        "\n",
        "data_path = Path(\"WHISPER/\")\n",
        "image_path = Path(\"data\")\n",
        "\n",
        "with zipfile.ZipFile(data_path / \"C2Seg_AB.zip\", \"r\") as zip_ref:\n",
        "    print(\"Unzipping C2Seg_AB data...\")\n",
        "    zip_ref.extractall(image_path)\n",
        "\n",
        "# Remove zip file\n",
        "os.remove(data_path / \"C2Seg_AB.zip\")"
      ],
      "metadata": {
        "id": "jfrPGxR1axrR",
        "colab": {
          "base_uri": "https://localhost:8080/"
        },
        "outputId": "8bc8a646-aa42-4e6e-d88f-6aaee6e4b74a"
      },
      "execution_count": 2,
      "outputs": [
        {
          "output_type": "stream",
          "name": "stdout",
          "text": [
            "Unzipping C2Seg_AB data...\n"
          ]
        }
      ]
    },
    {
      "cell_type": "markdown",
      "source": [
        "# 3. Setting Models"
      ],
      "metadata": {
        "id": "zBP2ItL0EqNN"
      }
    },
    {
      "cell_type": "code",
      "execution_count": 3,
      "metadata": {
        "id": "0Jos79d8_YfV"
      },
      "outputs": [],
      "source": [
        "import torch\n",
        "import torchvision\n",
        "import os\n",
        "import cv2\n",
        "import torch\n",
        "import numpy as np\n",
        "import matplotlib.pyplot as plt\n",
        "from osgeo import gdal"
      ]
    },
    {
      "cell_type": "code",
      "source": [
        "from torchvision.models.segmentation import deeplabv3_resnet50, deeplabv3_resnet101, deeplabv3_mobilenet_v3_large\n",
        "from torchvision.models.segmentation import (\n",
        "                                             DeepLabV3_ResNet50_Weights,\n",
        "                                             DeepLabV3_ResNet101_Weights,\n",
        "                                             DeepLabV3_MobileNet_V3_Large_Weights\n",
        "                                             )"
      ],
      "metadata": {
        "id": "Xw40z9e2_ao7"
      },
      "execution_count": 4,
      "outputs": []
    },
    {
      "cell_type": "code",
      "source": [
        "import torchvision\n",
        "import torch\n",
        "from torchvision.models.segmentation.fcn import FCNHead\n",
        "\n",
        "def get_model(model_name: str, channels: int=26, output_size:int= 14):\n",
        "  if model_name.lower() not in (\"resnet_50\"):\n",
        "    raise ValueError(\"'model_name' should be one of ('resnet_50')\")\n",
        "\n",
        "  if model_name == \"resnet_50\":\n",
        "    model, transform = load_model(model_name)\n",
        "    for param in model.parameters():\n",
        "      param.requires_grad = False\n",
        "\n",
        "    model.backbone.conv1 = torch.nn.Conv2d(channels, 64, kernel_size=(7, 7), stride=(2, 2), padding=(3, 3), bias=False)\n",
        "    model.aux_classifier = FCNHead(in_channels=1024, channels=output_size)\n",
        "    model.classifier[4] = torch.nn.Conv2d(256, output_size, kernel_size=(1, 1), stride=(1, 1))\n",
        "    return model, transform"
      ],
      "metadata": {
        "id": "jdEhWYpL9qyI"
      },
      "execution_count": 5,
      "outputs": []
    },
    {
      "cell_type": "code",
      "source": [
        "def load_model(model_name: str):\n",
        "    if model_name.lower() not in (\"mobilenet\", \"resnet_50\", \"resnet_101\"):\n",
        "        raise ValueError(\"'model_name' should be one of ('mobilenet', 'resnet_50', 'resnet_101')\")\n",
        "\n",
        "    if model_name == \"resnet_50\":\n",
        "        model = deeplabv3_resnet50(weights=DeepLabV3_ResNet50_Weights.DEFAULT)\n",
        "        transforms = DeepLabV3_ResNet50_Weights.COCO_WITH_VOC_LABELS_V1.transforms()\n",
        "\n",
        "    elif model_name == \"resnet_101\":\n",
        "        model = deeplabv3_resnet101(weights=DeepLabV3_ResNet101_Weights.DEFAULT)\n",
        "        transforms = DeepLabV3_ResNet101_Weights.COCO_WITH_VOC_LABELS_V1.transforms()\n",
        "\n",
        "    else:\n",
        "        model = deeplabv3_mobilenet_v3_large(weights=DeepLabV3_MobileNet_V3_Large_Weights.DEFAULT)\n",
        "        transforms = DeepLabV3_MobileNet_V3_Large_Weights.COCO_WITH_VOC_LABELS_V1.transforms()\n",
        "\n",
        "    model.eval()\n",
        "\n",
        "    # Warmup run\n",
        "\n",
        "    _ = model(torch.randn(1, 3, 520, 520))\n",
        "\n",
        "    return model, transforms"
      ],
      "metadata": {
        "id": "63-_dXsm_baK"
      },
      "execution_count": 6,
      "outputs": []
    },
    {
      "cell_type": "code",
      "source": [
        "model_resnet_50, transforms = get_model('resnet_50', 26, 14)"
      ],
      "metadata": {
        "id": "16igX_oR3BKm",
        "colab": {
          "base_uri": "https://localhost:8080/"
        },
        "outputId": "af0e84b9-327c-4d64-8b80-5f5f9242efea"
      },
      "execution_count": 7,
      "outputs": [
        {
          "output_type": "stream",
          "name": "stderr",
          "text": [
            "Downloading: \"https://download.pytorch.org/models/deeplabv3_resnet50_coco-cd0a2569.pth\" to /root/.cache/torch/hub/checkpoints/deeplabv3_resnet50_coco-cd0a2569.pth\n",
            "100%|██████████| 161M/161M [00:02<00:00, 81.9MB/s]\n"
          ]
        }
      ]
    },
    {
      "cell_type": "code",
      "source": [
        "!pip install torchinfo"
      ],
      "metadata": {
        "colab": {
          "base_uri": "https://localhost:8080/"
        },
        "id": "nfSDDTNmHJTE",
        "outputId": "50e19fa0-b3b2-4136-b774-08e4e83b0f33"
      },
      "execution_count": 8,
      "outputs": [
        {
          "output_type": "stream",
          "name": "stdout",
          "text": [
            "Collecting torchinfo\n",
            "  Downloading torchinfo-1.8.0-py3-none-any.whl (23 kB)\n",
            "Installing collected packages: torchinfo\n",
            "Successfully installed torchinfo-1.8.0\n"
          ]
        }
      ]
    },
    {
      "cell_type": "code",
      "source": [
        "from torchinfo import summary\n",
        "summary(model=model_resnet_50,\n",
        "        input_size=(1, 26, 693, 520), # make sure this is \"input_size\", not \"input_shape\"\n",
        "        # col_names=[\"input_size\"], # uncomment for smaller output\n",
        "        col_names=[\"input_size\", \"output_size\", \"num_params\", \"trainable\"],\n",
        "        col_width=20,\n",
        "        row_settings=[\"var_names\"]\n",
        ")"
      ],
      "metadata": {
        "id": "gAcwMqzBF_Ij",
        "colab": {
          "base_uri": "https://localhost:8080/"
        },
        "outputId": "4049d52f-9e13-4027-a204-5101dbc0655f"
      },
      "execution_count": 9,
      "outputs": [
        {
          "output_type": "execute_result",
          "data": {
            "text/plain": [
              "==================================================================================================================================\n",
              "Layer (type (var_name))                            Input Shape          Output Shape         Param #              Trainable\n",
              "==================================================================================================================================\n",
              "DeepLabV3 (DeepLabV3)                              [1, 26, 693, 520]    [1, 14, 693, 520]    --                   Partial\n",
              "├─IntermediateLayerGetter (backbone)               [1, 26, 693, 520]    [1, 2048, 87, 65]    --                   Partial\n",
              "│    └─Conv2d (conv1)                              [1, 26, 693, 520]    [1, 64, 347, 260]    81,536               True\n",
              "│    └─BatchNorm2d (bn1)                           [1, 64, 347, 260]    [1, 64, 347, 260]    (128)                False\n",
              "│    └─ReLU (relu)                                 [1, 64, 347, 260]    [1, 64, 347, 260]    --                   --\n",
              "│    └─MaxPool2d (maxpool)                         [1, 64, 347, 260]    [1, 64, 174, 130]    --                   --\n",
              "│    └─Sequential (layer1)                         [1, 64, 174, 130]    [1, 256, 174, 130]   --                   False\n",
              "│    │    └─Bottleneck (0)                         [1, 64, 174, 130]    [1, 256, 174, 130]   (75,008)             False\n",
              "│    │    └─Bottleneck (1)                         [1, 256, 174, 130]   [1, 256, 174, 130]   (70,400)             False\n",
              "│    │    └─Bottleneck (2)                         [1, 256, 174, 130]   [1, 256, 174, 130]   (70,400)             False\n",
              "│    └─Sequential (layer2)                         [1, 256, 174, 130]   [1, 512, 87, 65]     --                   False\n",
              "│    │    └─Bottleneck (0)                         [1, 256, 174, 130]   [1, 512, 87, 65]     (379,392)            False\n",
              "│    │    └─Bottleneck (1)                         [1, 512, 87, 65]     [1, 512, 87, 65]     (280,064)            False\n",
              "│    │    └─Bottleneck (2)                         [1, 512, 87, 65]     [1, 512, 87, 65]     (280,064)            False\n",
              "│    │    └─Bottleneck (3)                         [1, 512, 87, 65]     [1, 512, 87, 65]     (280,064)            False\n",
              "│    └─Sequential (layer3)                         [1, 512, 87, 65]     [1, 1024, 87, 65]    --                   False\n",
              "│    │    └─Bottleneck (0)                         [1, 512, 87, 65]     [1, 1024, 87, 65]    (1,512,448)          False\n",
              "│    │    └─Bottleneck (1)                         [1, 1024, 87, 65]    [1, 1024, 87, 65]    (1,117,184)          False\n",
              "│    │    └─Bottleneck (2)                         [1, 1024, 87, 65]    [1, 1024, 87, 65]    (1,117,184)          False\n",
              "│    │    └─Bottleneck (3)                         [1, 1024, 87, 65]    [1, 1024, 87, 65]    (1,117,184)          False\n",
              "│    │    └─Bottleneck (4)                         [1, 1024, 87, 65]    [1, 1024, 87, 65]    (1,117,184)          False\n",
              "│    │    └─Bottleneck (5)                         [1, 1024, 87, 65]    [1, 1024, 87, 65]    (1,117,184)          False\n",
              "│    └─Sequential (layer4)                         [1, 1024, 87, 65]    [1, 2048, 87, 65]    --                   False\n",
              "│    │    └─Bottleneck (0)                         [1, 1024, 87, 65]    [1, 2048, 87, 65]    (6,039,552)          False\n",
              "│    │    └─Bottleneck (1)                         [1, 2048, 87, 65]    [1, 2048, 87, 65]    (4,462,592)          False\n",
              "│    │    └─Bottleneck (2)                         [1, 2048, 87, 65]    [1, 2048, 87, 65]    (4,462,592)          False\n",
              "├─DeepLabHead (classifier)                         [1, 2048, 87, 65]    [1, 14, 87, 65]      --                   Partial\n",
              "│    └─ASPP (0)                                    [1, 2048, 87, 65]    [1, 256, 87, 65]     --                   False\n",
              "│    │    └─ModuleList (convs)                     --                   --                   (15,206,912)         False\n",
              "│    │    └─Sequential (project)                   [1, 1280, 87, 65]    [1, 256, 87, 65]     (328,192)            False\n",
              "│    └─Conv2d (1)                                  [1, 256, 87, 65]     [1, 256, 87, 65]     (589,824)            False\n",
              "│    └─BatchNorm2d (2)                             [1, 256, 87, 65]     [1, 256, 87, 65]     (512)                False\n",
              "│    └─ReLU (3)                                    [1, 256, 87, 65]     [1, 256, 87, 65]     --                   --\n",
              "│    └─Conv2d (4)                                  [1, 256, 87, 65]     [1, 14, 87, 65]      3,598                True\n",
              "├─FCNHead (aux_classifier)                         [1, 1024, 87, 65]    [1, 14, 87, 65]      --                   True\n",
              "│    └─Conv2d (0)                                  [1, 1024, 87, 65]    [1, 256, 87, 65]     2,359,296            True\n",
              "│    └─BatchNorm2d (1)                             [1, 256, 87, 65]     [1, 256, 87, 65]     512                  True\n",
              "│    └─ReLU (2)                                    [1, 256, 87, 65]     [1, 256, 87, 65]     --                   --\n",
              "│    └─Dropout (3)                                 [1, 256, 87, 65]     [1, 256, 87, 65]     --                   --\n",
              "│    └─Conv2d (4)                                  [1, 256, 87, 65]     [1, 14, 87, 65]      3,598                True\n",
              "==================================================================================================================================\n",
              "Total params: 42,072,604\n",
              "Trainable params: 2,448,540\n",
              "Non-trainable params: 39,624,064\n",
              "Total mult-adds (G): 245.70\n",
              "==================================================================================================================================\n",
              "Input size (MB): 37.48\n",
              "Forward/backward pass size (MB): 3070.09\n",
              "Params size (MB): 168.29\n",
              "Estimated Total Size (MB): 3275.85\n",
              "=================================================================================================================================="
            ]
          },
          "metadata": {},
          "execution_count": 9
        }
      ]
    },
    {
      "cell_type": "code",
      "source": [
        "\n",
        "model_resnet_50.aux_classifier[1] = torch.nn.BatchNorm2d(256, eps=1e-05, momentum=0.1, affine=True, track_running_stats=True)"
      ],
      "metadata": {
        "id": "yf3Tu7UQTZoS"
      },
      "execution_count": 39,
      "outputs": []
    },
    {
      "cell_type": "markdown",
      "source": [
        "# 3. Making Predictions With Untrained Model"
      ],
      "metadata": {
        "id": "OyBin4iHE4Jk"
      }
    },
    {
      "cell_type": "markdown",
      "source": [
        "## 3.1 Setting up device agnostic code"
      ],
      "metadata": {
        "id": "iLPRreU_FHg8"
      }
    },
    {
      "cell_type": "code",
      "source": [
        "device = \"cuda\" if torch.cuda.is_available() else \"cpu\"\n",
        "device"
      ],
      "metadata": {
        "colab": {
          "base_uri": "https://localhost:8080/",
          "height": 36
        },
        "id": "IMSWAUNPE_n0",
        "outputId": "22e9788c-6bf4-457e-e595-93326a3059be"
      },
      "execution_count": 10,
      "outputs": [
        {
          "output_type": "execute_result",
          "data": {
            "text/plain": [
              "'cuda'"
            ],
            "application/vnd.google.colaboratory.intrinsic+json": {
              "type": "string"
            }
          },
          "metadata": {},
          "execution_count": 10
        }
      ]
    },
    {
      "cell_type": "markdown",
      "source": [
        "## 3.2 Defining color-labels and visiualization functions"
      ],
      "metadata": {
        "id": "Rx1XfqHaFMYM"
      }
    },
    {
      "cell_type": "code",
      "source": [
        "label_map = np.array([\n",
        "      (0, 0, 0),          # 0 - Background (Black)\n",
        "      (0, 0, 255),        # 1 - Surface water (Blue)\n",
        "      (135, 206, 250),    # 2 - Street (Light Sky Blue)\n",
        "      (255, 255, 0),      # 3 - Urban Fabric (Yellow)\n",
        "      (128, 0, 0),        # 4 - Industrial, commercial and transport (Maroon)\n",
        "      (139, 37, 0),       # 5 - Mine, dump, and construction sites (Reddish Brown)\n",
        "      (0, 128, 0),        # 6 - Artificial, vegetated areas (Green)\n",
        "      (255, 165, 0),      # 7 - Arable Land (Orange)\n",
        "      (0, 255, 0),        # 8 - Permanent Crops (Lime Green)\n",
        "      (154, 205, 50),     # 9 - Pastures (Yellow Green)\n",
        "      (34, 139, 34),      # 10 - Forests (Forest Green)\n",
        "      (139, 69, 19),      # 11 - Shrub (Saddle Brown)\n",
        "      (245, 245, 220),    # 12 - Open spaces with no vegetation (Beige)\n",
        "      (0, 255, 255),      # 13 - Inland wetlands (Cyan)\n",
        "  ])\n",
        "\n",
        "\n",
        "labels = [\n",
        "    \"Background\", \"Surface water\", \"Street\", \"Urban Fabric\", \"Industrial, commercial and transport\",\n",
        "    \"Mine, dump, and construction sites\", \"Artificial, vegetated areas\", \"Arable Land\",\n",
        "    \"Permanent Crops\", \"Pastures\", \"Forests\", \"Shrub\", \"Open spaces with no vegetation\", \"Inland wetlands\"\n",
        "]"
      ],
      "metadata": {
        "id": "oeeiGHkC_cW1"
      },
      "execution_count": 11,
      "outputs": []
    },
    {
      "cell_type": "code",
      "source": [
        "def draw_segmentation_map(outputs):\n",
        "    labels = torch.argmax(outputs.squeeze(), dim=0).cpu().numpy()\n",
        "\n",
        "    # Create 3 Numpy arrays containing zeros.\n",
        "    # Later each pixel will be filled with respective red, green, and blue pixels\n",
        "    # depending on the predicted class.\n",
        "\n",
        "    red_map   = np.zeros_like(labels).astype(np.uint8)\n",
        "    green_map = np.zeros_like(labels).astype(np.uint8)\n",
        "    blue_map  = np.zeros_like(labels).astype(np.uint8)\n",
        "\n",
        "    for label_num in range(0, len(label_map)):\n",
        "        index = labels == label_num\n",
        "\n",
        "        R, G, B = label_map[label_num]\n",
        "\n",
        "        red_map[index]   = R\n",
        "        green_map[index] = G\n",
        "        blue_map[index]  = B\n",
        "\n",
        "    segmentation_map = np.stack([red_map, green_map, blue_map], axis=2)\n",
        "    return segmentation_map\n",
        "\n",
        "\n",
        "def image_overlay(image, segmented_image):\n",
        "    alpha = 1  # transparency for the original image\n",
        "    beta  = 0.8  # transparency for the segmentation map\n",
        "    gamma = 0  # scalar added to each sum\n",
        "\n",
        "    image = np.array(image)\n",
        "    segmented_image = cv2.cvtColor(segmented_image, cv2.COLOR_RGB2BGR)\n",
        "    image = cv2.cvtColor(image, cv2.COLOR_RGB2BGR)\n",
        "\n",
        "    cv2.addWeighted(image, alpha, segmented_image, beta, gamma, image)\n",
        "\n",
        "    return image"
      ],
      "metadata": {
        "id": "vJHbbJMB_dQU"
      },
      "execution_count": 78,
      "outputs": []
    },
    {
      "cell_type": "markdown",
      "source": [
        "## 3.3 Making predictions with untraind model"
      ],
      "metadata": {
        "id": "-Eb5fLGyFWps"
      }
    },
    {
      "cell_type": "code",
      "source": [
        "from utils import get_img\n",
        "\n",
        "import cv2\n",
        "import torch\n",
        "import numpy as np\n",
        "import matplotlib.pyplot as plt\n",
        "from matplotlib.colors import ListedColormap\n",
        "\n",
        "def predict_and_show(model, index):\n",
        "  X, mask = get_img(index)\n",
        "  X = X.to(device)\n",
        "  model.eval()\n",
        "  with torch.inference_mode():\n",
        "    output = model(X)[\"out\"].to(device)\n",
        "\n",
        "  W, H = output.shape[2], output.shape[3]\n",
        "\n",
        "  # Get RGB segmentation map\n",
        "  segmented_image = draw_segmentation_map(output)\n",
        "\n",
        "  # Resize to original image size\n",
        "  segmented_image = cv2.resize(segmented_image, (W, H), cv2.INTER_LINEAR)\n",
        "  #overlayed_image = image_overlay(img_raw, segmented_image)\n",
        "\n",
        "  # Plot\n",
        "  plt.figure(figsize=(20, 20))\n",
        "\n",
        "  plt.subplot(1, 3, 1)\n",
        "  # Create a custom colormap using the colors defined above\n",
        "  cmap = ListedColormap(label_map / 255.0)\n",
        "\n",
        "  # Display the mask using the custom colormap\n",
        "  plt.imshow(mask, cmap=cmap, vmin=0, vmax=13)\n",
        "\n",
        "  plt.title(\"Ground Truth\")\n",
        "  plt.axis(\"off\")\n",
        "\n",
        "  plt.subplot(1, 3, 2)\n",
        "  plt.title(\"Segmentation\")\n",
        "  plt.axis(\"off\")\n",
        "  plt.imshow(segmented_image)\n",
        "\n",
        "  plt.show()\n",
        "  plt.close()\n",
        "  # Save Segmented and overlayed images\n",
        "  if False:\n",
        "      cv2.imwrite(seg_map_save_dir, segmented_image[:, :, ::-1])\n",
        "      cv2.imwrite(overlayed_save_dir, overlayed_image)"
      ],
      "metadata": {
        "id": "l66oK09zOEya"
      },
      "execution_count": 88,
      "outputs": []
    },
    {
      "cell_type": "code",
      "source": [
        "index = 111"
      ],
      "metadata": {
        "id": "L8Gw6t6nHf9s"
      },
      "execution_count": 14,
      "outputs": []
    },
    {
      "cell_type": "code",
      "source": [
        "\n",
        "predict_and_show(model_resnet_50, index)"
      ],
      "metadata": {
        "colab": {
          "base_uri": "https://localhost:8080/",
          "height": 515
        },
        "id": "8SBmP3CjBvcU",
        "outputId": "ff5c93ce-18e1-49ae-92b0-b0608db7566d"
      },
      "execution_count": 89,
      "outputs": [
        {
          "output_type": "display_data",
          "data": {
            "text/plain": [
              "<Figure size 2000x2000 with 2 Axes>"
            ],
            "image/png": "[encoded data removed]"
          },
          "metadata": {}
        }
      ]
    },
    {
      "cell_type": "code",
      "source": [
        "import numpy as np\n",
        "import matplotlib.pyplot as plt\n",
        "from matplotlib.colors import ListedColormap\n",
        "def show_mask(mask):\n",
        "  # Assuming you have your mask data in a NumPy array named \"mask\"\n",
        "  # It should be a 128x128 image containing label values from 0 to 13.\n",
        "\n",
        "  # Create a custom colormap using the colors defined above\n",
        "  cmap = ListedColormap(label_map / 255.0)\n",
        "\n",
        "  # Display the mask using the custom colormap\n",
        "  plt.imshow(mask, cmap=cmap, vmin=0, vmax=13)\n",
        "\n",
        "  # Set the number of unique labels for the colorbar\n",
        "  num_labels = len(label_map)\n",
        "\n",
        "  # Set the tick positions and labels for the colorbar\n",
        "  ticks = np.arange(num_labels)\n",
        "\n",
        "  # Create the colorbar with the custom labels\n",
        "  cbar = plt.colorbar(ticks=ticks)\n",
        "  cbar.ax.set_yticklabels(labels, fontsize=8)\n",
        "  plt.axis(\"off\")\n",
        "  # Show the plot\n",
        "  plt.show()"
      ],
      "metadata": {
        "id": "qp8S8Q5vn6ko"
      },
      "execution_count": 188,
      "outputs": []
    },
    {
      "cell_type": "markdown",
      "source": [
        "# 4. Training Model"
      ],
      "metadata": {
        "id": "WudsexN8JvlD"
      }
    },
    {
      "cell_type": "markdown",
      "source": [
        "## 4.1 Creating DataLoaders"
      ],
      "metadata": {
        "id": "V414VzGHJzQE"
      }
    },
    {
      "cell_type": "code",
      "source": [
        "def calculate_accuracy(pred, target):\n",
        "    _, predicted = torch.max(pred, 1)\n",
        "    correct_pixels = (predicted == target).sum().item()\n",
        "    total_pixels = target.numel()\n",
        "    accuracy = correct_pixels / total_pixels * 100\n",
        "    return accuracy"
      ],
      "metadata": {
        "id": "0-mtovX8pgcu"
      },
      "execution_count": 156,
      "outputs": []
    },
    {
      "cell_type": "code",
      "source": [
        "def calculate_f1(pred, target, num_classes):\n",
        "    f1_list = []\n",
        "    for class_id in range(num_classes):\n",
        "        pred_mask = (pred == class_id)\n",
        "        target_mask = (target == class_id)\n",
        "        true_positive = (pred_mask & target_mask).sum().item()\n",
        "        false_positive = (pred_mask & ~target_mask).sum().item()\n",
        "        false_negative = (~pred_mask & target_mask).sum().item()\n",
        "        precision = true_positive / (true_positive + false_positive + 1e-8)\n",
        "        recall = true_positive / (true_positive + false_negative + 1e-8)\n",
        "        f1 = 2 * (precision * recall) / (precision + recall + 1e-8)  # Add a small epsilon to avoid division by zero\n",
        "        f1_list.append(f1)\n",
        "    return sum(f1_list) / len(f1_list)"
      ],
      "metadata": {
        "id": "LJ-y4eGQwfP2"
      },
      "execution_count": 175,
      "outputs": []
    },
    {
      "cell_type": "code",
      "source": [
        "def calculate_iou(pred, target, num_classes):\n",
        "    iou_list = []\n",
        "    for class_id in range(num_classes):\n",
        "        pred_mask = (pred == class_id)\n",
        "        target_mask = (target == class_id)\n",
        "        intersection = (pred_mask & target_mask).sum().item()\n",
        "        union = (pred_mask | target_mask).sum().item()\n",
        "        iou = intersection / (union + 1e-8)  # Add a small epsilon to avoid division by zero\n",
        "        iou_list.append(iou)\n",
        "    return sum(iou_list) / len(iou_list)"
      ],
      "metadata": {
        "id": "6P774jPTwjKl"
      },
      "execution_count": 176,
      "outputs": []
    },
    {
      "cell_type": "code",
      "source": [
        "import torch\n",
        "from skimage.io import imread\n",
        "from torch.utils import data\n",
        "from utils import get_img\n",
        "\n",
        "class SegmentationDataSet(data.Dataset):\n",
        "    def __init__(self,\n",
        "                 file_path='/content/data/C2Seg_AB/train',\n",
        "                 transform=None\n",
        "                 ):\n",
        "        self.file_path = file_path\n",
        "        self.inputs_dtype = torch.float32\n",
        "        self.targets_dtype = torch.float32\n",
        "        self.transform = transform\n",
        "\n",
        "    def __len__(self):\n",
        "        return 272\n",
        "\n",
        "    def __getitem__(self,\n",
        "                    index: int):\n",
        "        # Select the sample\n",
        "        X, y = get_img(index, self.file_path)\n",
        "        X = torch.squeeze(X)\n",
        "        # Preprocessing\n",
        "        if self.transform is not None:\n",
        "            X, y = self.transform(X, y)\n",
        "\n",
        "        # Typecasting\n",
        "        X, y = X.type(self.inputs_dtype), torch.from_numpy(y).type(self.targets_dtype)\n",
        "\n",
        "        return X, y"
      ],
      "metadata": {
        "id": "fXwgnelDJyik"
      },
      "execution_count": 59,
      "outputs": []
    },
    {
      "cell_type": "code",
      "source": [
        "training_dataset = SegmentationDataSet()\n",
        "\n",
        "training_dataloader = data.DataLoader(dataset=training_dataset,\n",
        "                                      batch_size=8,\n",
        "                                      shuffle=True)\n",
        "x, y = next(iter(training_dataloader))\n",
        "\n",
        "print(f'x = shape: {x.shape}; type: {x.dtype}')\n",
        "print(f'x = min: {x.min()}; max: {x.max()}')\n",
        "print(f'y = shape: {y.shape}; class: {y.unique()}; type: {y.dtype}')"
      ],
      "metadata": {
        "colab": {
          "base_uri": "https://localhost:8080/"
        },
        "id": "PdCw-8rqKfkj",
        "outputId": "9fb3c316-a058-489e-b27a-9b55c0328cf7"
      },
      "execution_count": 60,
      "outputs": [
        {
          "output_type": "stream",
          "name": "stdout",
          "text": [
            "x = shape: torch.Size([8, 26, 128, 128]); type: torch.float32\n",
            "x = min: -36881.37890625; max: 114351.671875\n",
            "y = shape: torch.Size([8, 128, 128]); class: tensor([ 0.,  1.,  2.,  3.,  4.,  5.,  6.,  7.,  8.,  9., 10., 11., 12., 13.]); type: torch.float32\n"
          ]
        }
      ]
    },
    {
      "cell_type": "markdown",
      "source": [
        "## 4.2 Training Loop"
      ],
      "metadata": {
        "id": "kxvuOrHf5rGc"
      }
    },
    {
      "cell_type": "code",
      "source": [
        "import torch\n",
        "import torch.nn as nn\n",
        "import torch.optim as optim\n",
        "from tqdm import tqdm\n",
        "\n",
        "# Define your neural network architecture here\n",
        "# For example, if you're using UNet, you can import it like this:\n",
        "# from models import UNet\n",
        "\n",
        "# Define your optimizer (e.g., Adam)\n",
        "optimizer = optim.Adam(model_resnet_50.parameters(), lr=0.001)\n",
        "\n",
        "# Define the loss function (CrossEntropyLoss)\n",
        "loss_fn = nn.CrossEntropyLoss()\n",
        "\n",
        "# Assuming you have your data loader set up as 'training_dataloader'\n",
        "# training_dataloader = data.DataLoader(...)\n",
        "\n",
        "# Assuming you have the model and optimizer defined, you can run the training loop like this:\n",
        "def train(model, data_loader, loss_fn, optimizer, num_epochs):\n",
        "    device = torch.device(\"cuda\" if torch.cuda.is_available() else \"cpu\")\n",
        "    model.to(device)\n",
        "\n",
        "    for epoch in tqdm(range(num_epochs)):\n",
        "        print(\"\")\n",
        "        model.train()\n",
        "        running_loss = 0.0\n",
        "        running_acc = 0.0\n",
        "        running_iou = 0.0\n",
        "        running_f1 = 0.0\n",
        "\n",
        "        loss_epoch = []\n",
        "        acc_epoch = []\n",
        "        iou_epoch = []\n",
        "        f1_epoch = []\n",
        "\n",
        "        for batch_idx, (inputs, targets) in enumerate(data_loader):\n",
        "            inputs, targets = inputs.to(device), targets.to(device)\n",
        "            # Zero the parameter gradients\n",
        "            optimizer.zero_grad()\n",
        "\n",
        "            # Forward pass\n",
        "            outputs = model(inputs)\n",
        "\n",
        "            accuracy = calculate_accuracy(outputs[\"out\"], targets)\n",
        "            iou = calculate_iou(torch.argmax(outputs[\"out\"], dim=1), targets, 14)\n",
        "            f1 = calculate_f1(torch.argmax(outputs[\"out\"], dim=1), targets, num_classes=num_classes)\n",
        "\n",
        "            # Calculate the loss\n",
        "            loss = loss_fn(outputs[\"out\"], targets.long())  # Assuming targets are integer class labels\n",
        "            # Backward pass and optimize\n",
        "            loss.backward()\n",
        "            optimizer.step()\n",
        "\n",
        "            running_loss += loss.item()\n",
        "            running_acc += accuracy\n",
        "            running_iou += iou\n",
        "            running_f1 = f1\n",
        "\n",
        "            if batch_idx % 10 == 9:  # Print every 10 mini-batches\n",
        "                mean_loss = running_loss / 10\n",
        "                mean_acc = running_acc / 10\n",
        "                mean_iou = running_iou / 10\n",
        "                mean_f1 = running_f1 / 10\n",
        "\n",
        "                #print(f\"Epoch {epoch + 1} | Batch {batch_idx + 1}/{len(data_loader)} | Loss: {mean_loss:.4f} | Accuracy: {mean_acc:.4f}% | IOU: {mean_iou:.4f} | F1: {mean_f1:.4f}\")\n",
        "                running_loss = 0.0\n",
        "                running_acc = 0.0\n",
        "                running_iou = 0.0\n",
        "                running_f1 = 0.0\n",
        "\n",
        "                loss_epoch.append(mean_loss)\n",
        "                acc_epoch.append(mean_acc)\n",
        "                iou_epoch.append(mean_iou)\n",
        "                f1_epoch.append(mean_f1)\n",
        "        print(\"\")\n",
        "        print(\"-----\")\n",
        "        print(f\"Epoch {epoch + 1} | Mean Loss: {(sum(loss_epoch) / len(loss_epoch)):.4f} | Mean Accuracy: {(sum(acc_epoch) / len(acc_epoch)):.4f}% | mIOU: {(sum(iou_epoch) / len(iou_epoch)):.4f} | mF1: {(sum(f1_epoch) / len(f1_epoch)):.4f}\")\n",
        "        print(\"-----\")\n",
        "# Set the number of training epochs\n",
        "num_epochs = 16\n",
        "\n",
        "# Assuming you have your model, optimizer, and data loader ready, start the training:\n",
        "# train(model, training_dataloader, loss_fn, optimizer, num_epochs)"
      ],
      "metadata": {
        "id": "Hp7bc2ykON_7"
      },
      "execution_count": 180,
      "outputs": []
    },
    {
      "cell_type": "code",
      "source": [
        "train(model_resnet_50, training_dataloader, loss_fn, optimizer, num_epochs)"
      ],
      "metadata": {
        "colab": {
          "base_uri": "https://localhost:8080/"
        },
        "id": "hOuWVN5nO3Pr",
        "outputId": "56a0b585-8faf-46b6-be61-cea2f0fd0cd6"
      },
      "execution_count": 128,
      "outputs": [
        {
          "output_type": "stream",
          "name": "stderr",
          "text": [
            "\r  0%|          | 0/16 [00:00<?, ?it/s]"
          ]
        },
        {
          "output_type": "stream",
          "name": "stdout",
          "text": [
            "\n",
            "Epoch 1, Batch 10/34, Loss: 1.8049\n",
            "Epoch 1, Batch 20/34, Loss: 1.7412\n",
            "Epoch 1, Batch 30/34, Loss: 1.8074\n"
          ]
        },
        {
          "output_type": "stream",
          "name": "stderr",
          "text": [
            "\r  6%|▋         | 1/16 [01:01<15:21, 61.45s/it]"
          ]
        },
        {
          "output_type": "stream",
          "name": "stdout",
          "text": [
            "\n",
            "Epoch 2, Batch 10/34, Loss: 1.7639\n",
            "Epoch 2, Batch 20/34, Loss: 1.8028\n",
            "Epoch 2, Batch 30/34, Loss: 1.7771\n"
          ]
        },
        {
          "output_type": "stream",
          "name": "stderr",
          "text": [
            "\r 12%|█▎        | 2/16 [02:03<14:28, 62.04s/it]"
          ]
        },
        {
          "output_type": "stream",
          "name": "stdout",
          "text": [
            "\n",
            "Epoch 3, Batch 10/34, Loss: 1.8022\n",
            "Epoch 3, Batch 20/34, Loss: 1.7185\n",
            "Epoch 3, Batch 30/34, Loss: 1.7693\n"
          ]
        },
        {
          "output_type": "stream",
          "name": "stderr",
          "text": [
            "\r 19%|█▉        | 3/16 [03:04<13:19, 61.53s/it]"
          ]
        },
        {
          "output_type": "stream",
          "name": "stdout",
          "text": [
            "\n",
            "Epoch 4, Batch 10/34, Loss: 1.7511\n",
            "Epoch 4, Batch 20/34, Loss: 1.8012\n",
            "Epoch 4, Batch 30/34, Loss: 1.7413\n"
          ]
        },
        {
          "output_type": "stream",
          "name": "stderr",
          "text": [
            "\r 25%|██▌       | 4/16 [04:06<12:20, 61.69s/it]"
          ]
        },
        {
          "output_type": "stream",
          "name": "stdout",
          "text": [
            "\n",
            "Epoch 5, Batch 10/34, Loss: 1.7600\n",
            "Epoch 5, Batch 20/34, Loss: 1.8306\n",
            "Epoch 5, Batch 30/34, Loss: 1.7596\n"
          ]
        },
        {
          "output_type": "stream",
          "name": "stderr",
          "text": [
            "\r 31%|███▏      | 5/16 [05:07<11:16, 61.48s/it]"
          ]
        },
        {
          "output_type": "stream",
          "name": "stdout",
          "text": [
            "\n",
            "Epoch 6, Batch 10/34, Loss: 1.7028\n",
            "Epoch 6, Batch 20/34, Loss: 1.7265\n",
            "Epoch 6, Batch 30/34, Loss: 1.8129\n"
          ]
        },
        {
          "output_type": "stream",
          "name": "stderr",
          "text": [
            "\r 38%|███▊      | 6/16 [06:09<10:14, 61.44s/it]"
          ]
        },
        {
          "output_type": "stream",
          "name": "stdout",
          "text": [
            "\n",
            "Epoch 7, Batch 10/34, Loss: 1.7432\n",
            "Epoch 7, Batch 20/34, Loss: 1.7343\n",
            "Epoch 7, Batch 30/34, Loss: 1.8087\n"
          ]
        },
        {
          "output_type": "stream",
          "name": "stderr",
          "text": [
            "\r 44%|████▍     | 7/16 [07:10<09:12, 61.43s/it]"
          ]
        },
        {
          "output_type": "stream",
          "name": "stdout",
          "text": [
            "\n",
            "Epoch 8, Batch 10/34, Loss: 1.8011\n",
            "Epoch 8, Batch 20/34, Loss: 1.7249\n",
            "Epoch 8, Batch 30/34, Loss: 1.7372\n"
          ]
        },
        {
          "output_type": "stream",
          "name": "stderr",
          "text": [
            "\r 50%|█████     | 8/16 [08:11<08:09, 61.18s/it]"
          ]
        },
        {
          "output_type": "stream",
          "name": "stdout",
          "text": [
            "\n",
            "Epoch 9, Batch 10/34, Loss: 1.7231\n",
            "Epoch 9, Batch 20/34, Loss: 1.7414\n",
            "Epoch 9, Batch 30/34, Loss: 1.7813\n"
          ]
        },
        {
          "output_type": "stream",
          "name": "stderr",
          "text": [
            "\r 56%|█████▋    | 9/16 [09:13<07:10, 61.56s/it]"
          ]
        },
        {
          "output_type": "stream",
          "name": "stdout",
          "text": [
            "\n",
            "Epoch 10, Batch 10/34, Loss: 1.7843\n",
            "Epoch 10, Batch 20/34, Loss: 1.7041\n",
            "Epoch 10, Batch 30/34, Loss: 1.7722\n"
          ]
        },
        {
          "output_type": "stream",
          "name": "stderr",
          "text": [
            "\r 62%|██████▎   | 10/16 [10:15<06:09, 61.66s/it]"
          ]
        },
        {
          "output_type": "stream",
          "name": "stdout",
          "text": [
            "\n",
            "Epoch 11, Batch 10/34, Loss: 1.7724\n",
            "Epoch 11, Batch 20/34, Loss: 1.6960\n",
            "Epoch 11, Batch 30/34, Loss: 1.6883\n"
          ]
        },
        {
          "output_type": "stream",
          "name": "stderr",
          "text": [
            "\r 69%|██████▉   | 11/16 [11:17<05:08, 61.75s/it]"
          ]
        },
        {
          "output_type": "stream",
          "name": "stdout",
          "text": [
            "\n",
            "Epoch 12, Batch 10/34, Loss: 1.7487\n",
            "Epoch 12, Batch 20/34, Loss: 1.7484\n",
            "Epoch 12, Batch 30/34, Loss: 1.7013\n"
          ]
        },
        {
          "output_type": "stream",
          "name": "stderr",
          "text": [
            "\r 75%|███████▌  | 12/16 [12:19<04:07, 61.85s/it]"
          ]
        },
        {
          "output_type": "stream",
          "name": "stdout",
          "text": [
            "\n",
            "Epoch 13, Batch 10/34, Loss: 1.6497\n",
            "Epoch 13, Batch 20/34, Loss: 1.7766\n",
            "Epoch 13, Batch 30/34, Loss: 1.7142\n"
          ]
        },
        {
          "output_type": "stream",
          "name": "stderr",
          "text": [
            "\r 81%|████████▏ | 13/16 [13:20<03:05, 61.69s/it]"
          ]
        },
        {
          "output_type": "stream",
          "name": "stdout",
          "text": [
            "\n",
            "Epoch 14, Batch 10/34, Loss: 1.7023\n",
            "Epoch 14, Batch 20/34, Loss: 1.7108\n",
            "Epoch 14, Batch 30/34, Loss: 1.7575\n"
          ]
        },
        {
          "output_type": "stream",
          "name": "stderr",
          "text": [
            "\r 88%|████████▊ | 14/16 [14:22<02:03, 61.63s/it]"
          ]
        },
        {
          "output_type": "stream",
          "name": "stdout",
          "text": [
            "\n",
            "Epoch 15, Batch 10/34, Loss: 1.6700\n",
            "Epoch 15, Batch 20/34, Loss: 1.6996\n",
            "Epoch 15, Batch 30/34, Loss: 1.6790\n"
          ]
        },
        {
          "output_type": "stream",
          "name": "stderr",
          "text": [
            "\r 94%|█████████▍| 15/16 [15:23<01:01, 61.54s/it]"
          ]
        },
        {
          "output_type": "stream",
          "name": "stdout",
          "text": [
            "\n",
            "Epoch 16, Batch 10/34, Loss: 1.7708\n",
            "Epoch 16, Batch 20/34, Loss: 1.7102\n",
            "Epoch 16, Batch 30/34, Loss: 1.7649\n"
          ]
        },
        {
          "output_type": "stream",
          "name": "stderr",
          "text": [
            "100%|██████████| 16/16 [16:25<00:00, 61.60s/it]\n"
          ]
        }
      ]
    },
    {
      "cell_type": "code",
      "source": [
        "predict_and_show(model_resnet_50, 101)"
      ],
      "metadata": {
        "colab": {
          "base_uri": "https://localhost:8080/",
          "height": 515
        },
        "id": "502VBaXkPxHz",
        "outputId": "8bea0e53-38b4-4059-8a1b-d8d5a0828f0d"
      },
      "execution_count": 146,
      "outputs": [
        {
          "output_type": "display_data",
          "data": {
            "text/plain": [
              "<Figure size 2000x2000 with 2 Axes>"
            ],
            "image/png": "[encoded data removed]"
          },
          "metadata": {}
        }
      ]
    },
    {
      "cell_type": "code",
      "source": [
        "optimizer = optim.Adam(model_resnet_50.parameters(), lr=0.001)\n",
        "num_epochs=20\n",
        "train(model_resnet_50, training_dataloader, loss_fn, optimizer, num_epochs)"
      ],
      "metadata": {
        "colab": {
          "base_uri": "https://localhost:8080/"
        },
        "id": "JLtvW7bskUv3",
        "outputId": "ab284c9e-c757-413e-edb7-eb1f7028d7a3"
      },
      "execution_count": 181,
      "outputs": [
        {
          "output_type": "stream",
          "name": "stderr",
          "text": [
            "\r  0%|          | 0/20 [00:00<?, ?it/s]"
          ]
        },
        {
          "output_type": "stream",
          "name": "stdout",
          "text": [
            "\n"
          ]
        },
        {
          "output_type": "stream",
          "name": "stderr",
          "text": [
            "\r  5%|▌         | 1/20 [01:05<20:53, 65.96s/it]"
          ]
        },
        {
          "output_type": "stream",
          "name": "stdout",
          "text": [
            "\n",
            "-----\n",
            "Epoch 1 | Mean Loss: 1.6760 | Mean Accuracy: 44.7172% | mIOU: 0.1006 | mF1: 0.0153\n",
            "-----\n",
            "\n"
          ]
        },
        {
          "output_type": "stream",
          "name": "stderr",
          "text": [
            "\r 10%|█         | 2/20 [02:10<19:27, 64.84s/it]"
          ]
        },
        {
          "output_type": "stream",
          "name": "stdout",
          "text": [
            "\n",
            "-----\n",
            "Epoch 2 | Mean Loss: 1.6264 | Mean Accuracy: 47.6784% | mIOU: 0.1106 | mF1: 0.0159\n",
            "-----\n",
            "\n"
          ]
        },
        {
          "output_type": "stream",
          "name": "stderr",
          "text": [
            "\r 15%|█▌        | 3/20 [03:16<18:33, 65.48s/it]"
          ]
        },
        {
          "output_type": "stream",
          "name": "stdout",
          "text": [
            "\n",
            "-----\n",
            "Epoch 3 | Mean Loss: 1.6636 | Mean Accuracy: 44.9923% | mIOU: 0.0984 | mF1: 0.0142\n",
            "-----\n",
            "\n"
          ]
        },
        {
          "output_type": "stream",
          "name": "stderr",
          "text": [
            "\r 20%|██        | 4/20 [04:21<17:25, 65.35s/it]"
          ]
        },
        {
          "output_type": "stream",
          "name": "stdout",
          "text": [
            "\n",
            "-----\n",
            "Epoch 4 | Mean Loss: 1.6417 | Mean Accuracy: 45.7639% | mIOU: 0.1019 | mF1: 0.0154\n",
            "-----\n",
            "\n"
          ]
        },
        {
          "output_type": "stream",
          "name": "stderr",
          "text": [
            "\r 25%|██▌       | 5/20 [05:26<16:16, 65.09s/it]"
          ]
        },
        {
          "output_type": "stream",
          "name": "stdout",
          "text": [
            "\n",
            "-----\n",
            "Epoch 5 | Mean Loss: 1.6579 | Mean Accuracy: 45.3130% | mIOU: 0.1035 | mF1: 0.0138\n",
            "-----\n",
            "\n"
          ]
        },
        {
          "output_type": "stream",
          "name": "stderr",
          "text": [
            "\r 30%|███       | 6/20 [06:29<15:04, 64.63s/it]"
          ]
        },
        {
          "output_type": "stream",
          "name": "stdout",
          "text": [
            "\n",
            "-----\n",
            "Epoch 6 | Mean Loss: 1.6487 | Mean Accuracy: 45.9840% | mIOU: 0.1058 | mF1: 0.0149\n",
            "-----\n",
            "\n"
          ]
        },
        {
          "output_type": "stream",
          "name": "stderr",
          "text": [
            "\r 35%|███▌      | 7/20 [07:33<13:56, 64.32s/it]"
          ]
        },
        {
          "output_type": "stream",
          "name": "stdout",
          "text": [
            "\n",
            "-----\n",
            "Epoch 7 | Mean Loss: 1.6442 | Mean Accuracy: 46.2198% | mIOU: 0.1039 | mF1: 0.0148\n",
            "-----\n",
            "\n"
          ]
        },
        {
          "output_type": "stream",
          "name": "stderr",
          "text": [
            "\r 40%|████      | 8/20 [08:37<12:49, 64.10s/it]"
          ]
        },
        {
          "output_type": "stream",
          "name": "stdout",
          "text": [
            "\n",
            "-----\n",
            "Epoch 8 | Mean Loss: 1.6612 | Mean Accuracy: 45.6316% | mIOU: 0.1048 | mF1: 0.0143\n",
            "-----\n",
            "\n"
          ]
        },
        {
          "output_type": "stream",
          "name": "stderr",
          "text": [
            "\r 45%|████▌     | 9/20 [09:41<11:45, 64.13s/it]"
          ]
        },
        {
          "output_type": "stream",
          "name": "stdout",
          "text": [
            "\n",
            "-----\n",
            "Epoch 9 | Mean Loss: 1.6332 | Mean Accuracy: 46.6368% | mIOU: 0.1050 | mF1: 0.0136\n",
            "-----\n",
            "\n"
          ]
        },
        {
          "output_type": "stream",
          "name": "stderr",
          "text": [
            "\r 50%|█████     | 10/20 [10:45<10:40, 64.09s/it]"
          ]
        },
        {
          "output_type": "stream",
          "name": "stdout",
          "text": [
            "\n",
            "-----\n",
            "Epoch 10 | Mean Loss: 1.6410 | Mean Accuracy: 46.5446% | mIOU: 0.1059 | mF1: 0.0135\n",
            "-----\n",
            "\n"
          ]
        },
        {
          "output_type": "stream",
          "name": "stderr",
          "text": [
            "\r 55%|█████▌    | 11/20 [11:49<09:36, 64.06s/it]"
          ]
        },
        {
          "output_type": "stream",
          "name": "stdout",
          "text": [
            "\n",
            "-----\n",
            "Epoch 11 | Mean Loss: 1.6550 | Mean Accuracy: 45.6876% | mIOU: 0.1007 | mF1: 0.0146\n",
            "-----\n",
            "\n"
          ]
        },
        {
          "output_type": "stream",
          "name": "stderr",
          "text": [
            "\r 60%|██████    | 12/20 [12:53<08:31, 63.95s/it]"
          ]
        },
        {
          "output_type": "stream",
          "name": "stdout",
          "text": [
            "\n",
            "-----\n",
            "Epoch 12 | Mean Loss: 1.6600 | Mean Accuracy: 45.6538% | mIOU: 0.1010 | mF1: 0.0125\n",
            "-----\n",
            "\n"
          ]
        },
        {
          "output_type": "stream",
          "name": "stderr",
          "text": [
            "\r 65%|██████▌   | 13/20 [13:57<07:28, 64.06s/it]"
          ]
        },
        {
          "output_type": "stream",
          "name": "stdout",
          "text": [
            "\n",
            "-----\n",
            "Epoch 13 | Mean Loss: 1.6585 | Mean Accuracy: 45.3598% | mIOU: 0.0997 | mF1: 0.0140\n",
            "-----\n",
            "\n"
          ]
        },
        {
          "output_type": "stream",
          "name": "stderr",
          "text": [
            "\r 70%|███████   | 14/20 [15:01<06:24, 64.08s/it]"
          ]
        },
        {
          "output_type": "stream",
          "name": "stdout",
          "text": [
            "\n",
            "-----\n",
            "Epoch 14 | Mean Loss: 1.6373 | Mean Accuracy: 45.8729% | mIOU: 0.1035 | mF1: 0.0169\n",
            "-----\n",
            "\n"
          ]
        },
        {
          "output_type": "stream",
          "name": "stderr",
          "text": [
            "\r 75%|███████▌  | 15/20 [16:04<05:19, 63.88s/it]"
          ]
        },
        {
          "output_type": "stream",
          "name": "stdout",
          "text": [
            "\n",
            "-----\n",
            "Epoch 15 | Mean Loss: 1.6397 | Mean Accuracy: 45.8150% | mIOU: 0.1076 | mF1: 0.0160\n",
            "-----\n",
            "\n"
          ]
        },
        {
          "output_type": "stream",
          "name": "stderr",
          "text": [
            "\r 80%|████████  | 16/20 [17:08<04:14, 63.69s/it]"
          ]
        },
        {
          "output_type": "stream",
          "name": "stdout",
          "text": [
            "\n",
            "-----\n",
            "Epoch 16 | Mean Loss: 1.6577 | Mean Accuracy: 45.5186% | mIOU: 0.1014 | mF1: 0.0134\n",
            "-----\n",
            "\n"
          ]
        },
        {
          "output_type": "stream",
          "name": "stderr",
          "text": [
            "\r 85%|████████▌ | 17/20 [18:13<03:12, 64.16s/it]"
          ]
        },
        {
          "output_type": "stream",
          "name": "stdout",
          "text": [
            "\n",
            "-----\n",
            "Epoch 17 | Mean Loss: 1.6054 | Mean Accuracy: 47.7993% | mIOU: 0.1148 | mF1: 0.0169\n",
            "-----\n",
            "\n"
          ]
        },
        {
          "output_type": "stream",
          "name": "stderr",
          "text": [
            "\r 90%|█████████ | 18/20 [19:17<02:08, 64.26s/it]"
          ]
        },
        {
          "output_type": "stream",
          "name": "stdout",
          "text": [
            "\n",
            "-----\n",
            "Epoch 18 | Mean Loss: 1.6268 | Mean Accuracy: 46.3940% | mIOU: 0.1063 | mF1: 0.0145\n",
            "-----\n",
            "\n"
          ]
        },
        {
          "output_type": "stream",
          "name": "stderr",
          "text": [
            "\r 95%|█████████▌| 19/20 [20:22<01:04, 64.27s/it]"
          ]
        },
        {
          "output_type": "stream",
          "name": "stdout",
          "text": [
            "\n",
            "-----\n",
            "Epoch 19 | Mean Loss: 1.6125 | Mean Accuracy: 47.3760% | mIOU: 0.1086 | mF1: 0.0160\n",
            "-----\n",
            "\n"
          ]
        },
        {
          "output_type": "stream",
          "name": "stderr",
          "text": [
            "100%|██████████| 20/20 [21:26<00:00, 64.34s/it]"
          ]
        },
        {
          "output_type": "stream",
          "name": "stdout",
          "text": [
            "\n",
            "-----\n",
            "Epoch 20 | Mean Loss: 1.6400 | Mean Accuracy: 46.7065% | mIOU: 0.1066 | mF1: 0.0154\n",
            "-----\n"
          ]
        },
        {
          "output_type": "stream",
          "name": "stderr",
          "text": [
            "\n"
          ]
        }
      ]
    },
    {
      "cell_type": "code",
      "source": [
        "predict_and_show(model_resnet_50, 19)"
      ],
      "metadata": {
        "colab": {
          "base_uri": "https://localhost:8080/",
          "height": 515
        },
        "id": "c82EqHZ5pSIe",
        "outputId": "b79c3113-a213-49e4-8b76-aa32925d291d"
      },
      "execution_count": 183,
      "outputs": [
        {
          "output_type": "display_data",
          "data": {
            "text/plain": [
              "<Figure size 2000x2000 with 2 Axes>"
            ],
            "image/png": "[encoded data removed]"
          },
          "metadata": {}
        }
      ]
    },
    {
      "cell_type": "markdown",
      "source": [
        "#5. Save The Base Model"
      ],
      "metadata": {
        "id": "Pp3EnuJVv8tN"
      }
    },
    {
      "cell_type": "code",
      "source": [
        "torch.save(model_resnet_50, \"models/resnet_50_base.pth\")"
      ],
      "metadata": {
        "id": "vKfC6y1GwAGt"
      },
      "execution_count": 184,
      "outputs": []
    },
    {
      "cell_type": "code",
      "source": [
        "loaded_model = torch.load(\"models/resnet_50_base.pth\")\n",
        "predict_and_show(loaded_model, 19)"
      ],
      "metadata": {
        "colab": {
          "base_uri": "https://localhost:8080/",
          "height": 515
        },
        "id": "pqHKfpQtwIGV",
        "outputId": "2e50e863-b94f-482e-e8ce-2634244ab1e3"
      },
      "execution_count": 187,
      "outputs": [
        {
          "output_type": "display_data",
          "data": {
            "text/plain": [
              "<Figure size 2000x2000 with 2 Axes>"
            ],
            "image/png": "[encoded data removed]"
          },
          "metadata": {}
        }
      ]
    }
  ]
}