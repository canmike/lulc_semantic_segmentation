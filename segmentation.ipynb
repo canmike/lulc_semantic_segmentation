{
  "nbformat": 4,
  "nbformat_minor": 0,
  "metadata": {
    "colab": {
      "provenance": [],
      "authorship_tag": "ABX9TyM4qN2JTUX8vOEBGXlUToXw",
      "include_colab_link": true
    },
    "kernelspec": {
      "name": "python3",
      "display_name": "Python 3"
    },
    "language_info": {
      "name": "python"
    }
  },
  "cells": [
    {
      "cell_type": "markdown",
      "metadata": {
        "id": "view-in-github",
        "colab_type": "text"
      },
      "source": [
        "<a href=\"https://colab.research.google.com/github/canmike/lulc_semantic_segmentation/blob/main/segmentation.ipynb\" target=\"_parent\"><img src=\"https://colab.research.google.com/assets/colab-badge.svg\" alt=\"Open In Colab\"/></a>"
      ]
    },
    {
      "cell_type": "code",
      "execution_count": 1,
      "metadata": {
        "colab": {
          "base_uri": "https://localhost:8080/"
        },
        "id": "uP8MxEZuaxDu",
        "outputId": "f5f39c24-a48d-4096-c068-5dfa21fb51e9"
      },
      "outputs": [
        {
          "output_type": "stream",
          "name": "stdout",
          "text": [
            "Downloaded utils.py.\n"
          ]
        }
      ],
      "source": [
        "import requests\n",
        "from pathlib import Path\n",
        "\n",
        "# Download helper functions from Learn PyTorch repo (if not already downloaded)\n",
        "if Path(\"utils.py\").is_file():\n",
        "  print(\"utils.py already exists, skipping download\")\n",
        "else:\n",
        "  # Note: you need the \"raw\" GitHub URL for this to work\n",
        "  request = requests.get(\"https://raw.githubusercontent.com/canmike/lulc_semantic_segmentation/main/utils.py\")\n",
        "  with open(\"utils.py\", \"wb\") as f:\n",
        "    f.write(request.content)\n",
        "  print(\"Downloaded utils.py.\")"
      ]
    },
    {
      "cell_type": "code",
      "source": [],
      "metadata": {
        "id": "jfrPGxR1axrR"
      },
      "execution_count": null,
      "outputs": []
    }
  ]
}