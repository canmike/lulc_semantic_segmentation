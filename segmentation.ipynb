{
  "nbformat": 4,
  "nbformat_minor": 0,
  "metadata": {
    "colab": {
      "provenance": [],
      "include_colab_link": true
    },
    "kernelspec": {
      "name": "python3",
      "display_name": "Python 3"
    },
    "language_info": {
      "name": "python"
    }
  },
  "cells": [
    {
      "cell_type": "markdown",
      "metadata": {
        "id": "view-in-github",
        "colab_type": "text"
      },
      "source": [
        "<a href=\"https://colab.research.google.com/github/canmike/lulc_semantic_segmentation/blob/main/segmentation.ipynb\" target=\"_parent\"><img src=\"https://colab.research.google.com/assets/colab-badge.svg\" alt=\"Open In Colab\"/></a>"
      ]
    },
    {
      "cell_type": "code",
      "execution_count": 1,
      "metadata": {
        "colab": {
          "base_uri": "https://localhost:8080/"
        },
        "id": "uP8MxEZuaxDu",
        "outputId": "476ea7aa-7f2c-4cf0-9c0b-e1b5d8cdb299"
      },
      "outputs": [
        {
          "output_type": "stream",
          "name": "stdout",
          "text": [
            "Downloaded utils.py.\n"
          ]
        }
      ],
      "source": [
        "import requests\n",
        "from pathlib import Path\n",
        "\n",
        "# Download helper functions from Learn PyTorch repo (if not already downloaded)\n",
        "if Path(\"utils.py\").is_file():\n",
        "  print(\"utils.py already exists, skipping download\")\n",
        "else:\n",
        "  # Note: you need the \"raw\" GitHub URL for this to work\n",
        "  request = requests.get(\"https://raw.githubusercontent.com/canmike/lulc_semantic_segmentation/main/utils.py\")\n",
        "  with open(\"utils.py\", \"wb\") as f:\n",
        "    f.write(request.content)\n",
        "  print(\"Downloaded utils.py.\")"
      ]
    },
    {
      "cell_type": "markdown",
      "source": [
        "# 1. Downloading Data"
      ],
      "metadata": {
        "id": "8Feb3l0krX54"
      }
    },
    {
      "cell_type": "code",
      "source": [
        "import gdown\n",
        "\n",
        "id = \"1WkN9LN_j0lfslSX0qC0Jlgf9bnluGSEu\"\n",
        "gdown.download_folder(id=id, quiet=True, use_cookies=False)\n",
        "import zipfile\n",
        "from pathlib import Path\n",
        "import os\n",
        "\n",
        "data_path = Path(\"WHISPER/\")\n",
        "image_path = Path(\"data\")\n",
        "\n",
        "with zipfile.ZipFile(data_path / \"C2Seg_AB.zip\", \"r\") as zip_ref:\n",
        "    print(\"Unzipping C2Seg_AB data...\")\n",
        "    zip_ref.extractall(image_path)\n",
        "\n",
        "# Remove zip file\n",
        "os.remove(data_path / \"C2Seg_AB.zip\")"
      ],
      "metadata": {
        "id": "jfrPGxR1axrR",
        "colab": {
          "base_uri": "https://localhost:8080/"
        },
        "outputId": "6744796c-97ee-49a7-d79c-eca5fc88afc3"
      },
      "execution_count": 2,
      "outputs": [
        {
          "output_type": "stream",
          "name": "stdout",
          "text": [
            "Unzipping C2Seg_AB data...\n"
          ]
        }
      ]
    }
  ]
}